{
  "nbformat": 4,
  "nbformat_minor": 0,
  "metadata": {
    "colab": {
      "name": "18127215-KTCN#1.ipynb",
      "provenance": []
    },
    "kernelspec": {
      "name": "python3",
      "display_name": "Python 3"
    },
    "language_info": {
      "name": "python"
    }
  },
  "cells": [
    {
      "cell_type": "code",
      "metadata": {
        "id": "FbpLBO35dLN9"
      },
      "source": [
        "import numpy as np\n",
        "import pandas as pd\n",
        "import math\n",
        "import matplotlib.pyplot as plt\n",
        "import seaborn as sns\n",
        "import scipy.stats\n",
        "from scipy.stats import ttest_1samp\n",
        "from scipy.stats import ttest_ind\n",
        "\n",
        "df = pd.read_csv('/content/brain_size.csv', sep = ';')\n",
        "df = df[['Gender', 'VIQ']]"
      ],
      "execution_count": 1,
      "outputs": []
    },
    {
      "cell_type": "code",
      "metadata": {
        "colab": {
          "base_uri": "https://localhost:8080/",
          "height": 295
        },
        "id": "aiUimREddS0v",
        "outputId": "5ede5f8b-bc07-4875-9d0f-2189d75c1198"
      },
      "source": [
        "df.describe()"
      ],
      "execution_count": 2,
      "outputs": [
        {
          "output_type": "execute_result",
          "data": {
            "text/html": [
              "<div>\n",
              "<style scoped>\n",
              "    .dataframe tbody tr th:only-of-type {\n",
              "        vertical-align: middle;\n",
              "    }\n",
              "\n",
              "    .dataframe tbody tr th {\n",
              "        vertical-align: top;\n",
              "    }\n",
              "\n",
              "    .dataframe thead th {\n",
              "        text-align: right;\n",
              "    }\n",
              "</style>\n",
              "<table border=\"1\" class=\"dataframe\">\n",
              "  <thead>\n",
              "    <tr style=\"text-align: right;\">\n",
              "      <th></th>\n",
              "      <th>VIQ</th>\n",
              "    </tr>\n",
              "  </thead>\n",
              "  <tbody>\n",
              "    <tr>\n",
              "      <th>count</th>\n",
              "      <td>40.000000</td>\n",
              "    </tr>\n",
              "    <tr>\n",
              "      <th>mean</th>\n",
              "      <td>112.350000</td>\n",
              "    </tr>\n",
              "    <tr>\n",
              "      <th>std</th>\n",
              "      <td>23.616107</td>\n",
              "    </tr>\n",
              "    <tr>\n",
              "      <th>min</th>\n",
              "      <td>71.000000</td>\n",
              "    </tr>\n",
              "    <tr>\n",
              "      <th>25%</th>\n",
              "      <td>90.000000</td>\n",
              "    </tr>\n",
              "    <tr>\n",
              "      <th>50%</th>\n",
              "      <td>113.000000</td>\n",
              "    </tr>\n",
              "    <tr>\n",
              "      <th>75%</th>\n",
              "      <td>129.750000</td>\n",
              "    </tr>\n",
              "    <tr>\n",
              "      <th>max</th>\n",
              "      <td>150.000000</td>\n",
              "    </tr>\n",
              "  </tbody>\n",
              "</table>\n",
              "</div>"
            ],
            "text/plain": [
              "              VIQ\n",
              "count   40.000000\n",
              "mean   112.350000\n",
              "std     23.616107\n",
              "min     71.000000\n",
              "25%     90.000000\n",
              "50%    113.000000\n",
              "75%    129.750000\n",
              "max    150.000000"
            ]
          },
          "metadata": {},
          "execution_count": 2
        }
      ]
    },
    {
      "cell_type": "code",
      "metadata": {
        "colab": {
          "base_uri": "https://localhost:8080/"
        },
        "id": "pidxHsVgexLy",
        "outputId": "60e39ba6-d08c-4234-9f3b-6bcf27e64e34"
      },
      "source": [
        "df.info()"
      ],
      "execution_count": 3,
      "outputs": [
        {
          "output_type": "stream",
          "name": "stdout",
          "text": [
            "<class 'pandas.core.frame.DataFrame'>\n",
            "RangeIndex: 40 entries, 0 to 39\n",
            "Data columns (total 2 columns):\n",
            " #   Column  Non-Null Count  Dtype \n",
            "---  ------  --------------  ----- \n",
            " 0   Gender  40 non-null     object\n",
            " 1   VIQ     40 non-null     int64 \n",
            "dtypes: int64(1), object(1)\n",
            "memory usage: 768.0+ bytes\n"
          ]
        }
      ]
    },
    {
      "cell_type": "markdown",
      "metadata": {
        "id": "fwpgq5-le7ru"
      },
      "source": [
        "Vậy dữ liệu không có missing value"
      ]
    },
    {
      "cell_type": "code",
      "metadata": {
        "colab": {
          "base_uri": "https://localhost:8080/"
        },
        "id": "lcwubQVxfCBd",
        "outputId": "d5ee1697-4e1d-484b-bdb5-1d15666e37b6"
      },
      "source": [
        "df.duplicated().any()"
      ],
      "execution_count": 4,
      "outputs": [
        {
          "output_type": "execute_result",
          "data": {
            "text/plain": [
              "True"
            ]
          },
          "metadata": {},
          "execution_count": 4
        }
      ]
    },
    {
      "cell_type": "markdown",
      "metadata": {
        "id": "5SG-FVNvfIbG"
      },
      "source": [
        "Vậy dữ liệu không có trùng lắp"
      ]
    },
    {
      "cell_type": "code",
      "metadata": {
        "colab": {
          "base_uri": "https://localhost:8080/"
        },
        "id": "_oDh8borfMhu",
        "outputId": "e286b9d2-e9b5-47d7-e3ba-dc6a261425b4"
      },
      "source": [
        "df['Gender'].value_counts()"
      ],
      "execution_count": 5,
      "outputs": [
        {
          "output_type": "execute_result",
          "data": {
            "text/plain": [
              "Male      20\n",
              "Female    20\n",
              "Name: Gender, dtype: int64"
            ]
          },
          "metadata": {},
          "execution_count": 5
        }
      ]
    },
    {
      "cell_type": "markdown",
      "metadata": {
        "id": "ScfHUEjBfi9O"
      },
      "source": [
        "Số lượng nam và nữ đều là 20"
      ]
    },
    {
      "cell_type": "markdown",
      "metadata": {
        "id": "v4Mpx03ff0J9"
      },
      "source": [
        "H0: IQ của nam và nữ không bằng nhau\n",
        "\n",
        "H1: IQ của nam và nữ bằng nhau"
      ]
    },
    {
      "cell_type": "code",
      "metadata": {
        "id": "z1LoOA3NgQ0g"
      },
      "source": [
        "df_male = df[ df['Gender'] == 'Male' ]\n",
        "df_fmale = df[ df['Gender'] == 'Female' ]"
      ],
      "execution_count": 6,
      "outputs": []
    },
    {
      "cell_type": "code",
      "metadata": {
        "id": "dEzolBN7gsU9"
      },
      "source": [
        "df_male = df_male[['VIQ']]\n",
        "df_fmale = df_fmale[['VIQ']]"
      ],
      "execution_count": 7,
      "outputs": []
    },
    {
      "cell_type": "code",
      "metadata": {
        "colab": {
          "base_uri": "https://localhost:8080/"
        },
        "id": "IAp81Vj2hRDW",
        "outputId": "929f108a-e8d8-44c7-8e7c-8b6076cae200"
      },
      "source": [
        "stat, p = ttest_ind(df_male['VIQ'], df_fmale['VIQ'])\n",
        "if p < 0.05:\n",
        "  print(\"Có sự khác biệt về IQ giữa nam và nữ\")\n",
        "else:\n",
        "  print(\"Không có sự khác biệt về IQ giữa nam và nữ\")"
      ],
      "execution_count": 8,
      "outputs": [
        {
          "output_type": "stream",
          "name": "stdout",
          "text": [
            "Không có sự khác biệt về IQ giữa nam và nữ\n"
          ]
        }
      ]
    },
    {
      "cell_type": "markdown",
      "metadata": {
        "id": "g_bc8VD9jKWm"
      },
      "source": [
        "Vậy IQ của nam và nữ bằng nhau"
      ]
    }
  ]
}